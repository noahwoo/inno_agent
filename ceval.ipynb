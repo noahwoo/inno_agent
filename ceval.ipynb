{
 "cells": [
  {
   "cell_type": "code",
   "execution_count": 6,
   "metadata": {},
   "outputs": [
    {
     "name": "stderr",
     "output_type": "stream",
     "text": [
      "Found cached dataset ceval-exam (/Users/wujianmin/.cache/huggingface/datasets/ceval___ceval-exam/computer_network/1.0.0/955d76b4f8ea8c9b6a14519905c8c10f781d3feb698126e274d2eb16cefc671f)\n"
     ]
    },
    {
     "data": {
      "application/vnd.jupyter.widget-view+json": {
       "model_id": "1789450e979645a2901483b2f66503f0",
       "version_major": 2,
       "version_minor": 0
      },
      "text/plain": [
       "  0%|          | 0/3 [00:00<?, ?it/s]"
      ]
     },
     "metadata": {},
     "output_type": "display_data"
    },
    {
     "name": "stdout",
     "output_type": "stream",
     "text": [
      "{'id': 0, 'question': '下列设备属于资源子网的是____。', 'A': '计算机软件', 'B': '网桥', 'C': '交换机', 'D': '路由器', 'answer': 'A', 'explanation': '1. 首先，资源子网是指提供共享资源的网络，如打印机、文件服务器等。\\r\\n2. 其次，我们需要了解选项中设备的功能。网桥、交换机和路由器的主要功能是实现不同网络之间的通信和数据传输，是通信子网设备。而计算机软件可以提供共享资源的功能。'}\n"
     ]
    },
    {
     "name": "stderr",
     "output_type": "stream",
     "text": [
      "Retrying langchain.llms.openai.completion_with_retry.<locals>._completion_with_retry in 4.0 seconds as it raised RateLimitError: The server had an error while processing your request. Sorry about that!.\n"
     ]
    },
    {
     "name": "stdout",
     "output_type": "stream",
     "text": [
      "question: 0, llm_answer=A, answer=C\n",
      "question: 1, llm_answer=C, answer=C\n",
      "question: 2, llm_answer=A, answer=C\n",
      "question: 3, llm_answer=C, answer=C\n",
      "question: 4, llm_answer=B, answer=D\n",
      "question: 5, llm_answer=D, answer=D\n",
      "question: 6, llm_answer=D, answer=C\n",
      "question: 7, llm_answer=D, answer=D\n",
      "question: 8, llm_answer=D, answer=C\n",
      "question: 9, llm_answer=C, answer=D\n",
      "question: 10, llm_answer=B, answer=B\n"
     ]
    },
    {
     "name": "stderr",
     "output_type": "stream",
     "text": [
      "Retrying langchain.llms.openai.completion_with_retry.<locals>._completion_with_retry in 4.0 seconds as it raised RateLimitError: The server had an error while processing your request. Sorry about that!.\n",
      "Retrying langchain.llms.openai.completion_with_retry.<locals>._completion_with_retry in 4.0 seconds as it raised RateLimitError: The server had an error while processing your request. Sorry about that!.\n"
     ]
    },
    {
     "name": "stdout",
     "output_type": "stream",
     "text": [
      "question: 11, llm_answer=C, answer=C\n",
      "question: 12, llm_answer=A, answer=B\n"
     ]
    },
    {
     "name": "stderr",
     "output_type": "stream",
     "text": [
      "Retrying langchain.llms.openai.completion_with_retry.<locals>._completion_with_retry in 4.0 seconds as it raised RateLimitError: The server had an error while processing your request. Sorry about that!.\n"
     ]
    },
    {
     "name": "stdout",
     "output_type": "stream",
     "text": [
      "question: 13, llm_answer=A, answer=A\n",
      "question: 14, llm_answer=B, answer=D\n",
      "question: 15, llm_answer=C, answer=C\n",
      "question: 16, llm_answer=A, answer=A\n",
      "question: 17, llm_answer=D, answer=B\n",
      "question: 18, llm_answer=C, answer=C\n"
     ]
    }
   ],
   "source": [
    "from datasets import load_dataset\n",
    "import json\n",
    "import requests\n",
    "from collections import defaultdict\n",
    "\n",
    "from langchain.llms import OpenAI\n",
    "from langchain import PromptTemplate, FewShotPromptTemplate\n",
    "from langchain.prompts.example_selector import LengthBasedExampleSelector\n",
    "from inference_api import YiyanInferenceApi, HfInferenceApi\n",
    "import regex\n",
    "\n",
    "dataset_mapping_url = f\"https://raw.githubusercontent.com/SJTU-LIT/ceval/main/subject_mapping.json\"\n",
    "\n",
    "# llm = YiyanInferenceApi(\"yiyan-007\", debug=True)\n",
    "llm = OpenAI(model_name=\"text-davinci-003\")\n",
    "\n",
    "def get_data_mapping(mapping_url):\n",
    "    headers = {\n",
    "            'Content-Type': 'application/json',\n",
    "            'Accept': 'application/json'\n",
    "        }\n",
    "    response = requests.request(\"GET\", mapping_url, headers=headers)\n",
    "    return json.loads(response.content.decode('utf-8'))\n",
    "\n",
    "def gen_by_fewshot_prompt(task_name, fewshot_set, test_set) :\n",
    "\n",
    "    prompt_template = \"\"\"问题：{question} \\n选项\\nA: {A}\\nB: {B}\\nC: {C}\\nD: {D}\\n思考：{explanation}\\n答案：{answer}\\n\\n\"\"\"\n",
    "\n",
    "    example_prompt = PromptTemplate(\n",
    "        input_variables = ['question', 'A', 'B', 'C', 'D', 'explanation', 'answer'],\n",
    "        template = prompt_template\n",
    "    )\n",
    "    \n",
    "    fewshot_examples = []\n",
    "    for id in range(len(fewshot_set)) :\n",
    "        fewshot_examples.append({'question': fewshot_set[id]['question'], \n",
    "                                 'A': fewshot_set[id]['A'],\n",
    "                                 'B': fewshot_set[id]['B'],\n",
    "                                 'C': fewshot_set[id]['C'],\n",
    "                                 'D': fewshot_set[id]['D'],\n",
    "                                 'explanation': fewshot_set[id]['explanation'], \n",
    "                                 'answer': fewshot_set[id]['answer']})\n",
    "\n",
    "    example_selector = LengthBasedExampleSelector(\n",
    "        examples = fewshot_examples,\n",
    "        example_prompt = example_prompt, \n",
    "        max_length = 1024,\n",
    "        get_text_length = lambda x: 2*len(x) # 2 tokens per Chinese character\n",
    "    )\n",
    "\n",
    "    few_shot_prompt = FewShotPromptTemplate(\n",
    "        example_selector = example_selector,\n",
    "        example_prompt = example_prompt,\n",
    "        prefix = f\"请作为一个{task_name}科目的考生，参考示例回答单项选择题，示例如下：\\n\", \n",
    "        suffix = \"下面是要回答的问题，可以先写出思考过程，然后给出ABCD的一个选项作为答案，确保用{{答案：}}作为答案的前缀\\n问题：{question}\\n选项\\nA: {A}\\nB: {B}\\nC: {C}\\nD: {D}\\n思考：\",\n",
    "        input_variables = ['question', 'A', 'B', 'C', 'D'], \n",
    "        example_separator = \"\\n\\n\"\n",
    "    )\n",
    "\n",
    "    for id in range(len(test_set)) :\n",
    "        grounded_prompt = few_shot_prompt.format(question=test_set[id]['question'],\n",
    "                                                        A = test_set[id]['A'],\n",
    "                                                        B = test_set[id]['B'],\n",
    "                                                        C = test_set[id]['C'],\n",
    "                                                        D = test_set[id]['D'])\n",
    "        completion = llm(grounded_prompt)\n",
    "        print(f\"question: {id}, llm_answer={extract_answer(completion)}, answer={test_set[id]['answer']}\")\n",
    "\n",
    "def extract_answer(completion) :\n",
    "    \n",
    "    answer_prefixes = ['答案：', '答案为', '答案是']\n",
    "    for answer_prefix in answer_prefixes :\n",
    "        if answer_prefix in completion :\n",
    "            return completion[completion.find(answer_prefix) + len(answer_prefix)]\n",
    "    \n",
    "    # regx match the first letter in ()\n",
    "    matched = regex.match(r'\\((.*)\\)', completion)\n",
    "    if matched :\n",
    "        return matched.group(1)\n",
    "    return completion\n",
    "\n",
    "data_mapping = get_data_mapping(dataset_mapping_url)\n",
    "for name in data_mapping.keys() :\n",
    "    dataset=load_dataset(r\"ceval/ceval-exam\",name=name)\n",
    "    print(dataset['dev'][0])\n",
    "    gen_by_fewshot_prompt(data_mapping[name][1], dataset['dev'], dataset['val'])\n",
    "    break\n"
   ]
  },
  {
   "cell_type": "code",
   "execution_count": null,
   "metadata": {},
   "outputs": [],
   "source": []
  }
 ],
 "metadata": {
  "kernelspec": {
   "display_name": "conda-env-tf",
   "language": "python",
   "name": "python3"
  },
  "language_info": {
   "codemirror_mode": {
    "name": "ipython",
    "version": 3
   },
   "file_extension": ".py",
   "mimetype": "text/x-python",
   "name": "python",
   "nbconvert_exporter": "python",
   "pygments_lexer": "ipython3",
   "version": "3.8.12"
  },
  "orig_nbformat": 4
 },
 "nbformat": 4,
 "nbformat_minor": 2
}
