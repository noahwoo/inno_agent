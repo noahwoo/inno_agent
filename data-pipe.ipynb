{
 "cells": [
  {
   "cell_type": "code",
   "execution_count": 22,
   "metadata": {},
   "outputs": [
    {
     "name": "stdout",
     "output_type": "stream",
     "text": [
      "Total num of text: 67\n",
      "defaultdict(<class 'list'>, {'#促销#限时活动\\n': ['\"但凡你错过这一波宝贝, 您再来买\"', '\"早拍咱们早拍呆, 早拍咱们早享受\"', '\"咱们走过路过一下, 别错过了\"'], '#促销#优惠\\n': ['\"早拍咱们早排单, 早拍咱们早享受\"', '\"早拍咱们早排单, 早拍咱们早享受\"', '\"早拍咱们早排单, 早拍咱们早享受\"']})\n"
     ]
    }
   ],
   "source": [
    "import os\n",
    "from collections import defaultdict\n",
    "import random\n",
    "\n",
    "label2text = defaultdict(list)\n",
    "\n",
    "key = '菜品'\n",
    "root = '/Users/wujianmin/git/inno_agent'\n",
    "with open(f'{root}/data/text2label-20k.csv', 'r') as fh :\n",
    "    for line in fh.readlines() :\n",
    "        tkns = line.split(',')\n",
    "        label, text = tkns[-1], ','.join(tkns[:-1])\n",
    "        if label != '' or label != ' ' or label != '#' :\n",
    "            if key in label and len(text) > 10 and text not in label2text[label] :\n",
    "                label2text[label].append(text)\n",
    "\n",
    "# sample K for each label\n",
    "K = 3\n",
    "\n",
    "label2subtxt = defaultdict(list)\n",
    "total_num = 0\n",
    "for (lab, txts) in label2text.items() :\n",
    "    if len(txts) > K:\n",
    "        subtxts = random.choices(txts, k = K)\n",
    "        label2subtxt[lab] = subtxts\n",
    "    total_num += len(txts)\n",
    "\n",
    "print(f'Total num of text: {total_num}')\n",
    "print(label2subtxt)"
   ]
  },
  {
   "attachments": {},
   "cell_type": "markdown",
   "metadata": {},
   "source": []
  },
  {
   "cell_type": "code",
   "execution_count": 11,
   "metadata": {},
   "outputs": [
    {
     "name": "stdout",
     "output_type": "stream",
     "text": [
      "yes\n"
     ]
    }
   ],
   "source": [
    "a = ['abc', 'def', 'ghi']\n",
    "\n",
    "if 'abc' in a :\n",
    "    print('yes')"
   ]
  }
 ],
 "metadata": {
  "kernelspec": {
   "display_name": "conda-env-tf",
   "language": "python",
   "name": "python3"
  },
  "language_info": {
   "codemirror_mode": {
    "name": "ipython",
    "version": 3
   },
   "file_extension": ".py",
   "mimetype": "text/x-python",
   "name": "python",
   "nbconvert_exporter": "python",
   "pygments_lexer": "ipython3",
   "version": "3.8.12"
  },
  "orig_nbformat": 4
 },
 "nbformat": 4,
 "nbformat_minor": 2
}
