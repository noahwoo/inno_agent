{
 "cells": [
  {
   "cell_type": "code",
   "execution_count": 11,
   "metadata": {},
   "outputs": [
    {
     "name": "stderr",
     "output_type": "stream",
     "text": [
      "\u001b[32m[2023-08-31 10:27:01,034] [    INFO]\u001b[0m - Cached access token will be used.\u001b[0m\n",
      "\u001b[35m[2023-08-31 10:27:01,038] [   DEBUG]\u001b[0m - URL without access token: https://aip.baidubce.com/rpc/2.0/ai_custom/v1/wenxinworkshop/chat/eb-instant\u001b[0m\n",
      "\u001b[35m[2023-08-31 10:27:01,041] [   DEBUG]\u001b[0m - Method: post\u001b[0m\n",
      "\u001b[35m[2023-08-31 10:27:01,043] [   DEBUG]\u001b[0m - Data: b'{\"messages\": [{\"role\": \"user\", \"content\": \"\\\\u5357\\\\u65b9\\\\u7535\\\\u7f51\\\\u6709\\\\u54ea\\\\u4e9b\\\\u5206\\\\u516c\\\\u53f8\\\\uff1f\"}]}'\u001b[0m\n",
      "\u001b[35m[2023-08-31 10:27:01,044] [   DEBUG]\u001b[0m - Headers: {'Content-Type': 'application/json'}\u001b[0m\n"
     ]
    },
    {
     "name": "stdout",
     "output_type": "stream",
     "text": [
      "('ernie-bot-3.5', '文心一言旗舰版')\n",
      "('ernie-bot-turbo', '文心一言轻量版')\n",
      "('ernie-text-embedding', '文心百中语义模型')\n",
      "('ernie-vilg-v2', '文心一格模型')\n"
     ]
    },
    {
     "name": "stderr",
     "output_type": "stream",
     "text": [
      "\u001b[35m[2023-08-31 10:27:03,568] [   DEBUG]\u001b[0m - API response body: b'{\"id\":\"as-3d9jt0kaxw\",\"object\":\"chat.completion\",\"created\":1693448823,\"result\":\"\\xe5\\x8d\\x97\\xe6\\x96\\xb9\\xe7\\x94\\xb5\\xe7\\xbd\\x91\\xe5\\x85\\xac\\xe5\\x8f\\xb8\\xe6\\x8b\\xa5\\xe6\\x9c\\x89\\xe8\\xb6\\x85\\xe9\\xab\\x98\\xe5\\x8e\\x8b\\xe5\\x85\\xac\\xe5\\x8f\\xb8\\xe3\\x80\\x81\\xe8\\xb0\\x83\\xe5\\xb3\\xb0\\xe8\\xb0\\x83\\xe9\\xa2\\x91\\xe5\\x85\\xac\\xe5\\x8f\\xb8\\xe3\\x80\\x81\\xe4\\xba\\x91\\xe5\\x8d\\x97\\xe9\\x80\\x81\\xe5\\x8f\\x98\\xe7\\x94\\xb5\\xe5\\x85\\xac\\xe5\\x8f\\xb8\\xe3\\x80\\x81\\xe5\\xb9\\xbf\\xe5\\xb7\\x9e\\xe4\\xbe\\x9b\\xe7\\x94\\xb5\\xe5\\xb1\\x80\\xe5\\x85\\xac\\xe5\\x8f\\xb8\\xe3\\x80\\x81\\xe8\\xb4\\xb5\\xe5\\xb7\\x9e\\xe7\\x94\\xb5\\xe7\\xbd\\x91\\xe5\\x85\\xac\\xe5\\x8f\\xb8\\xe3\\x80\\x81\\xe6\\xb5\\xb7\\xe5\\x8d\\x97\\xe7\\x94\\xb5\\xe7\\xbd\\x91\\xe5\\x85\\xac\\xe5\\x8f\\xb8\\xe3\\x80\\x81\\xe6\\xb7\\xb1\\xe5\\x9c\\xb3\\xe4\\xbe\\x9b\\xe7\\x94\\xb5\\xe5\\xb1\\x80\\xe5\\x85\\xac\\xe5\\x8f\\xb8\\xe3\\x80\\x81\\xe8\\xb4\\xb5\\xe5\\xb7\\x9e\\xe9\\x80\\x81\\xe5\\x8f\\x98\\xe7\\x94\\xb5\\xe5\\x85\\xac\\xe5\\x8f\\xb8\\xe3\\x80\\x81\\xe8\\xb6\\x85\\xe9\\xab\\x98\\xe5\\x8e\\x8b\\xe8\\xbe\\x93\\xe5\\x8f\\x98\\xe7\\x94\\xb5\\xe5\\x85\\xac\\xe5\\x8f\\xb8\\xe3\\x80\\x81\\xe8\\xb0\\x83\\xe5\\xb3\\xb0\\xe8\\xb0\\x83\\xe9\\xa2\\x91\\xe5\\x8f\\x91\\xe7\\x94\\xb5\\xe5\\x85\\xac\\xe5\\x8f\\xb8\\xe3\\x80\\x81\\xe4\\xba\\x91\\xe5\\x8d\\x97\\xe9\\x80\\x81\\xe5\\x8f\\x98\\xe7\\x94\\xb5\\xe5\\x85\\xac\\xe5\\x8f\\xb8\\xe3\\x80\\x81\\xe5\\xb9\\xbf\\xe5\\xb7\\x9e\\xe4\\xbe\\x9b\\xe7\\x94\\xb5\\xe5\\xb1\\x80\\xe5\\x85\\xac\\xe5\\x8f\\xb8\\xe3\\x80\\x81\\xe6\\xb7\\xb1\\xe5\\x9c\\xb3\\xe4\\xbe\\x9b\\xe7\\x94\\xb5\\xe5\\xb1\\x80\\xe5\\x85\\xac\\xe5\\x8f\\xb8\\xe7\\xad\\x89\\xe5\\x8d\\x81\\xe5\\xae\\xb6\\xe5\\x88\\x86\\xe5\\x85\\xac\\xe5\\x8f\\xb8\\xe3\\x80\\x82\",\"is_truncated\":false,\"need_clear_history\":false,\"usage\":{\"prompt_tokens\":10,\"completion_tokens\":102,\"total_tokens\":112}}'\u001b[0m\n",
      "\u001b[35m[2023-08-31 10:27:03,570] [   DEBUG]\u001b[0m - API response headers: {'Access-Control-Allow-Headers': 'Content-Type', 'Access-Control-Allow-Origin': '*', 'Appid': '34172580', 'Connection': 'keep-alive', 'Content-Encoding': 'gzip', 'Content-Type': 'application/json; charset=utf-8', 'Date': 'Thu, 31 Aug 2023 02:27:03 GMT', 'P3p': 'CP=\" OTI DSP COR IVA OUR IND COM \", CP=\" OTI DSP COR IVA OUR IND COM \"', 'Server': 'Apache', 'Set-Cookie': 'BAIDUID=9A1346A25AD98AE84623A74ABD4E5E5A:FG=1; expires=Thu, 31-Dec-37 23:55:55 GMT; max-age=2145916555; path=/; domain=.baidu.com; version=1', 'Statement': 'AI-generated', 'Tracecode': '16236659320266115850083110', 'Vary': 'Accept-Encoding', 'X-Aipe-Self-Def': 'eb_total_tokens:112-id:as-3d9jt0kaxw', 'X-Baidu-Request-Id': 'a4da90d86674d65780c1dde6f2d318751000082', 'Content-Length': '321'}\u001b[0m\n",
      "\u001b[32m[2023-08-31 10:27:03,572] [    INFO]\u001b[0m - Cached access token will be used.\u001b[0m\n",
      "\u001b[35m[2023-08-31 10:27:03,573] [   DEBUG]\u001b[0m - URL without access token: https://aip.baidubce.com/rpc/2.0/ai_custom/v1/wenxinworkshop/chat/eb-instant\u001b[0m\n",
      "\u001b[35m[2023-08-31 10:27:03,574] [   DEBUG]\u001b[0m - Method: post\u001b[0m\n",
      "\u001b[35m[2023-08-31 10:27:03,574] [   DEBUG]\u001b[0m - Data: b'{\"messages\": [{\"role\": \"user\", \"content\": \"\\\\u5357\\\\u65b9\\\\u7535\\\\u7f51\\\\u6709\\\\u54ea\\\\u4e9b\\\\u5206\\\\u516c\\\\u53f8\\\\uff1f\"}, {\"role\": \"assistant\", \"content\": \"\\\\u5357\\\\u65b9\\\\u7535\\\\u7f51\\\\u516c\\\\u53f8\\\\u62e5\\\\u6709\\\\u8d85\\\\u9ad8\\\\u538b\\\\u516c\\\\u53f8\\\\u3001\\\\u8c03\\\\u5cf0\\\\u8c03\\\\u9891\\\\u516c\\\\u53f8\\\\u3001\\\\u4e91\\\\u5357\\\\u9001\\\\u53d8\\\\u7535\\\\u516c\\\\u53f8\\\\u3001\\\\u5e7f\\\\u5dde\\\\u4f9b\\\\u7535\\\\u5c40\\\\u516c\\\\u53f8\\\\u3001\\\\u8d35\\\\u5dde\\\\u7535\\\\u7f51\\\\u516c\\\\u53f8\\\\u3001\\\\u6d77\\\\u5357\\\\u7535\\\\u7f51\\\\u516c\\\\u53f8\\\\u3001\\\\u6df1\\\\u5733\\\\u4f9b\\\\u7535\\\\u5c40\\\\u516c\\\\u53f8\\\\u3001\\\\u8d35\\\\u5dde\\\\u9001\\\\u53d8\\\\u7535\\\\u516c\\\\u53f8\\\\u3001\\\\u8d85\\\\u9ad8\\\\u538b\\\\u8f93\\\\u53d8\\\\u7535\\\\u516c\\\\u53f8\\\\u3001\\\\u8c03\\\\u5cf0\\\\u8c03\\\\u9891\\\\u53d1\\\\u7535\\\\u516c\\\\u53f8\\\\u3001\\\\u4e91\\\\u5357\\\\u9001\\\\u53d8\\\\u7535\\\\u516c\\\\u53f8\\\\u3001\\\\u5e7f\\\\u5dde\\\\u4f9b\\\\u7535\\\\u5c40\\\\u516c\\\\u53f8\\\\u3001\\\\u6df1\\\\u5733\\\\u4f9b\\\\u7535\\\\u5c40\\\\u516c\\\\u53f8\\\\u7b49\\\\u5341\\\\u5bb6\\\\u5206\\\\u516c\\\\u53f8\\\\u3002\"}, {\"role\": \"user\", \"content\": \"\\\\u91cd\\\\u5e86\\\\u5728\\\\u4e0d\\\\u5728\\\\u8fd9\\\\u91cc\\\\u9762\\\\uff1f\"}]}'\u001b[0m\n",
      "\u001b[35m[2023-08-31 10:27:03,575] [   DEBUG]\u001b[0m - Headers: {'Content-Type': 'application/json'}\u001b[0m\n"
     ]
    },
    {
     "name": "stdout",
     "output_type": "stream",
     "text": [
      "南方电网公司拥有超高压公司、调峰调频公司、云南送变电公司、广州供电局公司、贵州电网公司、海南电网公司、深圳供电局公司、贵州送变电公司、超高压输变电公司、调峰调频发电公司、云南送变电公司、广州供电局公司、深圳供电局公司等十家分公司。\n"
     ]
    },
    {
     "name": "stderr",
     "output_type": "stream",
     "text": [
      "\u001b[35m[2023-08-31 10:27:07,324] [   DEBUG]\u001b[0m - API response body: b'{\"id\":\"as-0i9srhwyw9\",\"object\":\"chat.completion\",\"created\":1693448827,\"result\":\"\\xe9\\x87\\x8d\\xe5\\xba\\x86\\xe5\\xb1\\x9e\\xe4\\xba\\x8e\\xe5\\x8d\\x97\\xe6\\x96\\xb9\\xe7\\x94\\xb5\\xe7\\xbd\\x91\\xe5\\x85\\xac\\xe5\\x8f\\xb8\\xe3\\x80\\x82\\\\n\\\\n\\xe5\\x8d\\x97\\xe6\\x96\\xb9\\xe7\\x94\\xb5\\xe7\\xbd\\x91\\xe5\\x85\\xac\\xe5\\x8f\\xb8\\xe6\\x98\\xaf\\xe6\\x88\\x91\\xe5\\x9b\\xbd\\xe8\\xa5\\xbf\\xe7\\x94\\xb5\\xe4\\xb8\\x9c\\xe9\\x80\\x81\\xe7\\x9a\\x84\\xe6\\xa1\\xa5\\xe5\\xa4\\xb4\\xe5\\xa0\\xa1\\xef\\xbc\\x8c\\xe8\\xb4\\x9f\\xe8\\xb4\\xa3\\xe5\\xb0\\x86\\xe4\\xba\\x91\\xe5\\x8d\\x97\\xe3\\x80\\x81\\xe8\\xb4\\xb5\\xe5\\xb7\\x9e\\xe3\\x80\\x81\\xe5\\xb9\\xbf\\xe8\\xa5\\xbf\\xe3\\x80\\x81\\xe5\\xb9\\xbf\\xe4\\xb8\\x9c\\xe7\\x9a\\x84\\xe7\\x94\\xb5\\xe5\\x8a\\x9b\\xe9\\x80\\x81\\xe5\\xbe\\x80\\xe5\\x8d\\x8e\\xe4\\xb8\\x9c\\xe3\\x80\\x81\\xe5\\x8d\\x8e\\xe4\\xb8\\xad\\xe5\\x9c\\xb0\\xe5\\x8c\\xba\\xe3\\x80\\x82\\xe9\\x87\\x8d\\xe5\\xba\\x86\\xe4\\xbd\\x8d\\xe4\\xba\\x8e\\xe8\\xa5\\xbf\\xe5\\x8d\\x97\\xe5\\x9c\\xb0\\xe5\\x8c\\xba\\xef\\xbc\\x8c\\xe5\\xb1\\x9e\\xe4\\xba\\x8e\\xe5\\x8d\\x97\\xe6\\x96\\xb9\\xe7\\x94\\xb5\\xe7\\xbd\\x91\\xe5\\x85\\xac\\xe5\\x8f\\xb8\\xe7\\x9a\\x84\\xe7\\xae\\xa1\\xe8\\xbe\\x96\\xe8\\x8c\\x83\\xe5\\x9b\\xb4\\xe3\\x80\\x82\\xe5\\x8d\\x97\\xe6\\x96\\xb9\\xe7\\x94\\xb5\\xe7\\xbd\\x91\\xe5\\x85\\xac\\xe5\\x8f\\xb8\\xe6\\x88\\x90\\xe7\\xab\\x8b\\xe4\\xba\\x8e2002\\xe5\\xb9\\xb4\\xef\\xbc\\x8c\\xe6\\x98\\xaf\\xe5\\x9b\\xbd\\xe5\\x8a\\xa1\\xe9\\x99\\xa2\\xe5\\x9b\\xbd\\xe6\\x9c\\x89\\xe8\\xb5\\x84\\xe4\\xba\\xa7\\xe7\\x9b\\x91\\xe7\\x9d\\xa3\\xe7\\xae\\xa1\\xe7\\x90\\x86\\xe5\\xa7\\x94\\xe5\\x91\\x98\\xe4\\xbc\\x9a\\xe7\\x9b\\x91\\xe7\\xae\\xa1\\xe7\\x9a\\x84\\xe5\\x9b\\xbd\\xe6\\x9c\\x89\\xe5\\xa4\\xa7\\xe5\\x9e\\x8b\\xe4\\xbc\\x81\\xe4\\xb8\\x9a\\xef\\xbc\\x8c\\xe6\\x8b\\xa5\\xe6\\x9c\\x89\\xe8\\xb6\\x85\\xe9\\xab\\x98\\xe5\\x8e\\x8b\\xe5\\x85\\xac\\xe5\\x8f\\xb8\\xe3\\x80\\x81\\xe8\\xb0\\x83\\xe5\\xb3\\xb0\\xe8\\xb0\\x83\\xe9\\xa2\\x91\\xe5\\x85\\xac\\xe5\\x8f\\xb8\\xe3\\x80\\x81\\xe4\\xba\\x91\\xe5\\x8d\\x97\\xe9\\x80\\x81\\xe5\\x8f\\x98\\xe7\\x94\\xb5\\xe5\\x85\\xac\\xe5\\x8f\\xb8\\xe3\\x80\\x81\\xe5\\xb9\\xbf\\xe5\\xb7\\x9e\\xe4\\xbe\\x9b\\xe7\\x94\\xb5\\xe5\\xb1\\x80\\xe5\\x85\\xac\\xe5\\x8f\\xb8\\xe3\\x80\\x81\\xe8\\xb4\\xb5\\xe5\\xb7\\x9e\\xe7\\x94\\xb5\\xe7\\xbd\\x91\\xe5\\x85\\xac\\xe5\\x8f\\xb8\\xe3\\x80\\x81\\xe6\\xb5\\xb7\\xe5\\x8d\\x97\\xe7\\x94\\xb5\\xe7\\xbd\\x91\\xe5\\x85\\xac\\xe5\\x8f\\xb8\\xe3\\x80\\x81\\xe6\\xb7\\xb1\\xe5\\x9c\\xb3\\xe4\\xbe\\x9b\\xe7\\x94\\xb5\\xe5\\xb1\\x80\\xe5\\x85\\xac\\xe5\\x8f\\xb8\\xe3\\x80\\x81\\xe8\\xb4\\xb5\\xe5\\xb7\\x9e\\xe9\\x80\\x81\\xe5\\x8f\\x98\\xe7\\x94\\xb5\\xe5\\x85\\xac\\xe5\\x8f\\xb8\\xe3\\x80\\x81\\xe8\\xb6\\x85\\xe9\\xab\\x98\\xe5\\x8e\\x8b\\xe8\\xbe\\x93\\xe5\\x8f\\x98\\xe7\\x94\\xb5\\xe5\\x85\\xac\\xe5\\x8f\\xb8\\xe3\\x80\\x81\\xe8\\xb0\\x83\\xe5\\xb3\\xb0\\xe8\\xb0\\x83\\xe9\\xa2\\x91\\xe5\\x8f\\x91\\xe7\\x94\\xb5\\xe5\\x85\\xac\\xe5\\x8f\\xb8\\xe3\\x80\\x81\\xe4\\xba\\x91\\xe5\\x8d\\x97\\xe9\\x80\\x81\\xe5\\x8f\\x98\\xe7\\x94\\xb5\\xe5\\x85\\xac\\xe5\\x8f\\xb8\\xe3\\x80\\x81\\xe5\\xb9\\xbf\\xe5\\xb7\\x9e\\xe4\\xbe\\x9b\\xe7\\x94\\xb5\\xe5\\xb1\\x80\\xe5\\x85\\xac\\xe5\\x8f\\xb8\\xe3\\x80\\x81\\xe6\\xb7\\xb1\\xe5\\x9c\\xb3\\xe4\\xbe\\x9b\\xe7\\x94\\xb5\\xe5\\xb1\\x80\\xe5\\x85\\xac\\xe5\\x8f\\xb8\\xe7\\xad\\x89\\xe5\\x8d\\x81\\xe5\\xae\\xb6\\xe5\\x88\\x86\\xe5\\x85\\xac\\xe5\\x8f\\xb8\\xe3\\x80\\x82\\\\n\\\\n\\xe9\\x87\\x8d\\xe5\\xba\\x86\\xe4\\xbd\\x9c\\xe4\\xb8\\xba\\xe7\\x9b\\xb4\\xe8\\xbe\\x96\\xe5\\xb8\\x82\\xef\\xbc\\x8c\\xe7\\x94\\xb1\\xe5\\x8d\\x97\\xe6\\x96\\xb9\\xe7\\x94\\xb5\\xe7\\xbd\\x91\\xe5\\x85\\xac\\xe5\\x8f\\xb8\\xe7\\x9b\\xb4\\xe6\\x8e\\xa5\\xe7\\xae\\xa1\\xe7\\x90\\x86\\xe3\\x80\\x82\\xe5\\x9b\\xa0\\xe6\\xad\\xa4\\xef\\xbc\\x8c\\xe9\\x87\\x8d\\xe5\\xba\\x86\\xe5\\xb1\\x9e\\xe4\\xba\\x8e\\xe5\\x8d\\x97\\xe6\\x96\\xb9\\xe7\\x94\\xb5\\xe7\\xbd\\x91\\xe5\\x85\\xac\\xe5\\x8f\\xb8\\xe7\\x9a\\x84\\xe7\\xae\\xa1\\xe8\\xbe\\x96\\xe8\\x8c\\x83\\xe5\\x9b\\xb4\\xe3\\x80\\x82\",\"is_truncated\":false,\"need_clear_history\":false,\"usage\":{\"prompt_tokens\":120,\"completion_tokens\":236,\"total_tokens\":356}}'\u001b[0m\n",
      "\u001b[35m[2023-08-31 10:27:07,324] [   DEBUG]\u001b[0m - API response headers: {'Access-Control-Allow-Headers': 'Content-Type', 'Access-Control-Allow-Origin': '*', 'Appid': '34172580', 'Connection': 'keep-alive', 'Content-Encoding': 'gzip', 'Content-Type': 'application/json; charset=utf-8', 'Date': 'Thu, 31 Aug 2023 02:27:07 GMT', 'P3p': 'CP=\" OTI DSP COR IVA OUR IND COM \", CP=\" OTI DSP COR IVA OUR IND COM \"', 'Server': 'Apache', 'Set-Cookie': 'BAIDUID=D12BFA15E86DD2BD322EBDBEBFD7AD42:FG=1; expires=Thu, 31-Dec-37 23:55:55 GMT; max-age=2145916555; path=/; domain=.baidu.com; version=1', 'Statement': 'AI-generated', 'Tracecode': '16274159660266115850083110', 'Vary': 'Accept-Encoding', 'X-Aipe-Self-Def': 'eb_total_tokens:356-id:as-0i9srhwyw9', 'X-Baidu-Request-Id': 'b93c5ae681958cd4fc3578515a9af8a01000269', 'Transfer-Encoding': 'chunked'}\u001b[0m\n"
     ]
    },
    {
     "name": "stdout",
     "output_type": "stream",
     "text": [
      "重庆属于南方电网公司。\n",
      "\n",
      "南方电网公司是我国西电东送的桥头堡，负责将云南、贵州、广西、广东的电力送往华东、华中地区。重庆位于西南地区，属于南方电网公司的管辖范围。南方电网公司成立于2002年，是国务院国有资产监督管理委员会监管的国有大型企业，拥有超高压公司、调峰调频公司、云南送变电公司、广州供电局公司、贵州电网公司、海南电网公司、深圳供电局公司、贵州送变电公司、超高压输变电公司、调峰调频发电公司、云南送变电公司、广州供电局公司、深圳供电局公司等十家分公司。\n",
      "\n",
      "重庆作为直辖市，由南方电网公司直接管理。因此，重庆属于南方电网公司的管辖范围。\n"
     ]
    }
   ],
   "source": [
    "import erniebot\n",
    "import os\n",
    "# List supported models\n",
    "models = erniebot.Model.list()\n",
    "\n",
    "for model in models :\n",
    "    print(model)\n",
    "\n",
    "# ernie-bot-3.5         文心一言旗舰版\n",
    "# ernie-bot-turbo       文心一言轻量版\n",
    "# ernie-text-embedding  文心百中语义模型\n",
    "# ernie-vilg-v2         文心一格模型\n",
    "\n",
    "# Set ak/sk \n",
    "erniebot.ak = os.environ['YIYAN_API_KEY']\n",
    "erniebot.sk = os.environ['YIYAN_SEC_KEY']\n",
    "\n",
    "# llm = \"ernie-bot-3.5\"\n",
    "llm = \"ernie-bot-turbo\"\n",
    "\n",
    "# Create a chat completion\n",
    "chat_completion = erniebot.ChatCompletion.create(model=llm, messages=[{\"role\": \"user\", \"content\": \"南方电网有哪些分公司？\"}])\n",
    "print(chat_completion.result)\n",
    "\n",
    "chat_completion = erniebot.ChatCompletion.create(model=llm, messages=[\n",
    "    {\"role\": \"user\", \"content\": \"南方电网有哪些分公司？\"}, \n",
    "    {\"role\": \"assistant\", \"content\": chat_completion.result},\n",
    "    {\"role\": \"user\", \"content\":\"重庆在不在这里面？\"}])\n",
    "print(chat_completion.result)\n"
   ]
  },
  {
   "cell_type": "code",
   "execution_count": 16,
   "metadata": {},
   "outputs": [
    {
     "ename": "ValueError",
     "evalue": "Got unknown type [",
     "output_type": "error",
     "traceback": [
      "\u001b[0;31m---------------------------------------------------------------------------\u001b[0m",
      "\u001b[0;31mValueError\u001b[0m                                Traceback (most recent call last)",
      "Cell \u001b[0;32mIn[16], line 17\u001b[0m\n\u001b[1;32m     14\u001b[0m llm \u001b[39m=\u001b[39m ChatOpenAI(temperature\u001b[39m=\u001b[39m\u001b[39m0\u001b[39m, model_name\u001b[39m=\u001b[39m\u001b[39m\"\u001b[39m\u001b[39mgpt-3.5-turbo-16k\u001b[39m\u001b[39m\"\u001b[39m)\n\u001b[1;32m     16\u001b[0m chat_hist \u001b[39m=\u001b[39m [{\u001b[39m\"\u001b[39m\u001b[39mrole\u001b[39m\u001b[39m\"\u001b[39m: \u001b[39m\"\u001b[39m\u001b[39muser\u001b[39m\u001b[39m\"\u001b[39m, \u001b[39m\"\u001b[39m\u001b[39mcontent\u001b[39m\u001b[39m\"\u001b[39m: \u001b[39m\"\u001b[39m\u001b[39m南方电网有哪些分公司？\u001b[39m\u001b[39m\"\u001b[39m}]\n\u001b[0;32m---> 17\u001b[0m completion \u001b[39m=\u001b[39m llm(json\u001b[39m.\u001b[39;49mdumps(chat_hist))\n\u001b[1;32m     18\u001b[0m \u001b[39mprint\u001b[39m(completion)\n\u001b[1;32m     20\u001b[0m \u001b[39mprint\u001b[39m(\u001b[39m\"\u001b[39m\u001b[39m=\u001b[39m\u001b[39m\"\u001b[39m \u001b[39m*\u001b[39m \u001b[39m100\u001b[39m)\n",
      "File \u001b[0;32m~/miniforge3/envs/py310/lib/python3.10/site-packages/langchain/chat_models/base.py:538\u001b[0m, in \u001b[0;36mBaseChatModel.__call__\u001b[0;34m(self, messages, stop, callbacks, **kwargs)\u001b[0m\n\u001b[1;32m    531\u001b[0m \u001b[39mdef\u001b[39;00m \u001b[39m__call__\u001b[39m(\n\u001b[1;32m    532\u001b[0m     \u001b[39mself\u001b[39m,\n\u001b[1;32m    533\u001b[0m     messages: List[BaseMessage],\n\u001b[0;32m   (...)\u001b[0m\n\u001b[1;32m    536\u001b[0m     \u001b[39m*\u001b[39m\u001b[39m*\u001b[39mkwargs: Any,\n\u001b[1;32m    537\u001b[0m ) \u001b[39m-\u001b[39m\u001b[39m>\u001b[39m BaseMessage:\n\u001b[0;32m--> 538\u001b[0m     generation \u001b[39m=\u001b[39m \u001b[39mself\u001b[39;49m\u001b[39m.\u001b[39;49mgenerate(\n\u001b[1;32m    539\u001b[0m         [messages], stop\u001b[39m=\u001b[39;49mstop, callbacks\u001b[39m=\u001b[39;49mcallbacks, \u001b[39m*\u001b[39;49m\u001b[39m*\u001b[39;49mkwargs\n\u001b[1;32m    540\u001b[0m     )\u001b[39m.\u001b[39mgenerations[\u001b[39m0\u001b[39m][\u001b[39m0\u001b[39m]\n\u001b[1;32m    541\u001b[0m     \u001b[39mif\u001b[39;00m \u001b[39misinstance\u001b[39m(generation, ChatGeneration):\n\u001b[1;32m    542\u001b[0m         \u001b[39mreturn\u001b[39;00m generation\u001b[39m.\u001b[39mmessage\n",
      "File \u001b[0;32m~/miniforge3/envs/py310/lib/python3.10/site-packages/langchain/chat_models/base.py:296\u001b[0m, in \u001b[0;36mBaseChatModel.generate\u001b[0;34m(self, messages, stop, callbacks, tags, metadata, **kwargs)\u001b[0m\n\u001b[1;32m    294\u001b[0m         \u001b[39mif\u001b[39;00m run_managers:\n\u001b[1;32m    295\u001b[0m             run_managers[i]\u001b[39m.\u001b[39mon_llm_error(e)\n\u001b[0;32m--> 296\u001b[0m         \u001b[39mraise\u001b[39;00m e\n\u001b[1;32m    297\u001b[0m flattened_outputs \u001b[39m=\u001b[39m [\n\u001b[1;32m    298\u001b[0m     LLMResult(generations\u001b[39m=\u001b[39m[res\u001b[39m.\u001b[39mgenerations], llm_output\u001b[39m=\u001b[39mres\u001b[39m.\u001b[39mllm_output)\n\u001b[1;32m    299\u001b[0m     \u001b[39mfor\u001b[39;00m res \u001b[39min\u001b[39;00m results\n\u001b[1;32m    300\u001b[0m ]\n\u001b[1;32m    301\u001b[0m llm_output \u001b[39m=\u001b[39m \u001b[39mself\u001b[39m\u001b[39m.\u001b[39m_combine_llm_outputs([res\u001b[39m.\u001b[39mllm_output \u001b[39mfor\u001b[39;00m res \u001b[39min\u001b[39;00m results])\n",
      "File \u001b[0;32m~/miniforge3/envs/py310/lib/python3.10/site-packages/langchain/chat_models/base.py:286\u001b[0m, in \u001b[0;36mBaseChatModel.generate\u001b[0;34m(self, messages, stop, callbacks, tags, metadata, **kwargs)\u001b[0m\n\u001b[1;32m    283\u001b[0m \u001b[39mfor\u001b[39;00m i, m \u001b[39min\u001b[39;00m \u001b[39menumerate\u001b[39m(messages):\n\u001b[1;32m    284\u001b[0m     \u001b[39mtry\u001b[39;00m:\n\u001b[1;32m    285\u001b[0m         results\u001b[39m.\u001b[39mappend(\n\u001b[0;32m--> 286\u001b[0m             \u001b[39mself\u001b[39;49m\u001b[39m.\u001b[39;49m_generate_with_cache(\n\u001b[1;32m    287\u001b[0m                 m,\n\u001b[1;32m    288\u001b[0m                 stop\u001b[39m=\u001b[39;49mstop,\n\u001b[1;32m    289\u001b[0m                 run_manager\u001b[39m=\u001b[39;49mrun_managers[i] \u001b[39mif\u001b[39;49;00m run_managers \u001b[39melse\u001b[39;49;00m \u001b[39mNone\u001b[39;49;00m,\n\u001b[1;32m    290\u001b[0m                 \u001b[39m*\u001b[39;49m\u001b[39m*\u001b[39;49mkwargs,\n\u001b[1;32m    291\u001b[0m             )\n\u001b[1;32m    292\u001b[0m         )\n\u001b[1;32m    293\u001b[0m     \u001b[39mexcept\u001b[39;00m (\u001b[39mKeyboardInterrupt\u001b[39;00m, \u001b[39mException\u001b[39;00m) \u001b[39mas\u001b[39;00m e:\n\u001b[1;32m    294\u001b[0m         \u001b[39mif\u001b[39;00m run_managers:\n",
      "File \u001b[0;32m~/miniforge3/envs/py310/lib/python3.10/site-packages/langchain/chat_models/base.py:433\u001b[0m, in \u001b[0;36mBaseChatModel._generate_with_cache\u001b[0;34m(self, messages, stop, run_manager, **kwargs)\u001b[0m\n\u001b[1;32m    429\u001b[0m     \u001b[39mraise\u001b[39;00m \u001b[39mValueError\u001b[39;00m(\n\u001b[1;32m    430\u001b[0m         \u001b[39m\"\u001b[39m\u001b[39mAsked to cache, but no cache found at `langchain.cache`.\u001b[39m\u001b[39m\"\u001b[39m\n\u001b[1;32m    431\u001b[0m     )\n\u001b[1;32m    432\u001b[0m \u001b[39mif\u001b[39;00m new_arg_supported:\n\u001b[0;32m--> 433\u001b[0m     \u001b[39mreturn\u001b[39;00m \u001b[39mself\u001b[39;49m\u001b[39m.\u001b[39;49m_generate(\n\u001b[1;32m    434\u001b[0m         messages, stop\u001b[39m=\u001b[39;49mstop, run_manager\u001b[39m=\u001b[39;49mrun_manager, \u001b[39m*\u001b[39;49m\u001b[39m*\u001b[39;49mkwargs\n\u001b[1;32m    435\u001b[0m     )\n\u001b[1;32m    436\u001b[0m \u001b[39melse\u001b[39;00m:\n\u001b[1;32m    437\u001b[0m     \u001b[39mreturn\u001b[39;00m \u001b[39mself\u001b[39m\u001b[39m.\u001b[39m_generate(messages, stop\u001b[39m=\u001b[39mstop, \u001b[39m*\u001b[39m\u001b[39m*\u001b[39mkwargs)\n",
      "File \u001b[0;32m~/miniforge3/envs/py310/lib/python3.10/site-packages/langchain/chat_models/openai.py:398\u001b[0m, in \u001b[0;36mChatOpenAI._generate\u001b[0;34m(self, messages, stop, run_manager, **kwargs)\u001b[0m\n\u001b[1;32m    395\u001b[0m     \u001b[39massert\u001b[39;00m generation \u001b[39mis\u001b[39;00m \u001b[39mnot\u001b[39;00m \u001b[39mNone\u001b[39;00m\n\u001b[1;32m    396\u001b[0m     \u001b[39mreturn\u001b[39;00m ChatResult(generations\u001b[39m=\u001b[39m[generation])\n\u001b[0;32m--> 398\u001b[0m message_dicts, params \u001b[39m=\u001b[39m \u001b[39mself\u001b[39;49m\u001b[39m.\u001b[39;49m_create_message_dicts(messages, stop)\n\u001b[1;32m    399\u001b[0m params \u001b[39m=\u001b[39m {\u001b[39m*\u001b[39m\u001b[39m*\u001b[39mparams, \u001b[39m*\u001b[39m\u001b[39m*\u001b[39mkwargs}\n\u001b[1;32m    400\u001b[0m response \u001b[39m=\u001b[39m \u001b[39mself\u001b[39m\u001b[39m.\u001b[39mcompletion_with_retry(\n\u001b[1;32m    401\u001b[0m     messages\u001b[39m=\u001b[39mmessage_dicts, run_manager\u001b[39m=\u001b[39mrun_manager, \u001b[39m*\u001b[39m\u001b[39m*\u001b[39mparams\n\u001b[1;32m    402\u001b[0m )\n",
      "File \u001b[0;32m~/miniforge3/envs/py310/lib/python3.10/site-packages/langchain/chat_models/openai.py:413\u001b[0m, in \u001b[0;36mChatOpenAI._create_message_dicts\u001b[0;34m(self, messages, stop)\u001b[0m\n\u001b[1;32m    411\u001b[0m         \u001b[39mraise\u001b[39;00m \u001b[39mValueError\u001b[39;00m(\u001b[39m\"\u001b[39m\u001b[39m`stop` found in both the input and default params.\u001b[39m\u001b[39m\"\u001b[39m)\n\u001b[1;32m    412\u001b[0m     params[\u001b[39m\"\u001b[39m\u001b[39mstop\u001b[39m\u001b[39m\"\u001b[39m] \u001b[39m=\u001b[39m stop\n\u001b[0;32m--> 413\u001b[0m message_dicts \u001b[39m=\u001b[39m [_convert_message_to_dict(m) \u001b[39mfor\u001b[39;00m m \u001b[39min\u001b[39;00m messages]\n\u001b[1;32m    414\u001b[0m \u001b[39mreturn\u001b[39;00m message_dicts, params\n",
      "File \u001b[0;32m~/miniforge3/envs/py310/lib/python3.10/site-packages/langchain/chat_models/openai.py:413\u001b[0m, in \u001b[0;36m<listcomp>\u001b[0;34m(.0)\u001b[0m\n\u001b[1;32m    411\u001b[0m         \u001b[39mraise\u001b[39;00m \u001b[39mValueError\u001b[39;00m(\u001b[39m\"\u001b[39m\u001b[39m`stop` found in both the input and default params.\u001b[39m\u001b[39m\"\u001b[39m)\n\u001b[1;32m    412\u001b[0m     params[\u001b[39m\"\u001b[39m\u001b[39mstop\u001b[39m\u001b[39m\"\u001b[39m] \u001b[39m=\u001b[39m stop\n\u001b[0;32m--> 413\u001b[0m message_dicts \u001b[39m=\u001b[39m [_convert_message_to_dict(m) \u001b[39mfor\u001b[39;00m m \u001b[39min\u001b[39;00m messages]\n\u001b[1;32m    414\u001b[0m \u001b[39mreturn\u001b[39;00m message_dicts, params\n",
      "File \u001b[0;32m~/miniforge3/envs/py310/lib/python3.10/site-packages/langchain/chat_models/openai.py:175\u001b[0m, in \u001b[0;36m_convert_message_to_dict\u001b[0;34m(message)\u001b[0m\n\u001b[1;32m    169\u001b[0m     message_dict \u001b[39m=\u001b[39m {\n\u001b[1;32m    170\u001b[0m         \u001b[39m\"\u001b[39m\u001b[39mrole\u001b[39m\u001b[39m\"\u001b[39m: \u001b[39m\"\u001b[39m\u001b[39mfunction\u001b[39m\u001b[39m\"\u001b[39m,\n\u001b[1;32m    171\u001b[0m         \u001b[39m\"\u001b[39m\u001b[39mcontent\u001b[39m\u001b[39m\"\u001b[39m: message\u001b[39m.\u001b[39mcontent,\n\u001b[1;32m    172\u001b[0m         \u001b[39m\"\u001b[39m\u001b[39mname\u001b[39m\u001b[39m\"\u001b[39m: message\u001b[39m.\u001b[39mname,\n\u001b[1;32m    173\u001b[0m     }\n\u001b[1;32m    174\u001b[0m \u001b[39melse\u001b[39;00m:\n\u001b[0;32m--> 175\u001b[0m     \u001b[39mraise\u001b[39;00m \u001b[39mValueError\u001b[39;00m(\u001b[39mf\u001b[39m\u001b[39m\"\u001b[39m\u001b[39mGot unknown type \u001b[39m\u001b[39m{\u001b[39;00mmessage\u001b[39m}\u001b[39;00m\u001b[39m\"\u001b[39m)\n\u001b[1;32m    176\u001b[0m \u001b[39mif\u001b[39;00m \u001b[39m\"\u001b[39m\u001b[39mname\u001b[39m\u001b[39m\"\u001b[39m \u001b[39min\u001b[39;00m message\u001b[39m.\u001b[39madditional_kwargs:\n\u001b[1;32m    177\u001b[0m     message_dict[\u001b[39m\"\u001b[39m\u001b[39mname\u001b[39m\u001b[39m\"\u001b[39m] \u001b[39m=\u001b[39m message\u001b[39m.\u001b[39madditional_kwargs[\u001b[39m\"\u001b[39m\u001b[39mname\u001b[39m\u001b[39m\"\u001b[39m]\n",
      "\u001b[0;31mValueError\u001b[0m: Got unknown type ["
     ]
    }
   ],
   "source": [
    "from wenxinyiyan import WxYiyan\n",
    "from langchain.chat_models import ChatOpenAI\n",
    "from langchain.llms.openai import OpenAI\n",
    "\n",
    "import json\n",
    "\n",
    "# llm_name = \"ERNIE-Bot\"\n",
    "llm_name = \"ERNIE-Bot-turbo\"\n",
    "\n",
    "llm = WxYiyan(temperature=0.01, top_p = 0, model_name = llm_name, \n",
    "              system=\"你是南方电网公司机构相关知识的专家，请准确回答用户的问题。回答时请确保：\\n 1. 内容与对话上文一致，不能出现冲突 \\n\", \n",
    "              chat=True)\n",
    "\n",
    "# llm = ChatOpenAI(temperature=0, model_name=\"gpt-3.5-turbo-16k\")\n",
    "\n",
    "chat_hist = [{\"role\": \"user\", \"content\": \"南方电网有哪些分公司？\"}]\n",
    "completion = llm(json.dumps(chat_hist))\n",
    "print(completion)\n",
    "\n",
    "print(\"=\" * 100)\n",
    "chat_hist.append({\"role\":\"assistant\", \"content\" : completion})\n",
    "chat_hist.append({\"role\":\"user\", \"content\" : \"重庆在不在这里面？\"})\n",
    "completion = llm(json.dumps(chat_hist))\n",
    "print(completion)\n",
    "\n"
   ]
  }
 ],
 "metadata": {
  "kernelspec": {
   "display_name": "py310",
   "language": "python",
   "name": "python3"
  },
  "language_info": {
   "codemirror_mode": {
    "name": "ipython",
    "version": 3
   },
   "file_extension": ".py",
   "mimetype": "text/x-python",
   "name": "python",
   "nbconvert_exporter": "python",
   "pygments_lexer": "ipython3",
   "version": "3.10.9"
  },
  "orig_nbformat": 4
 },
 "nbformat": 4,
 "nbformat_minor": 2
}
